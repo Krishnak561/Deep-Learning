{
  "cells": [
    {
      "cell_type": "markdown",
      "metadata": {
        "id": "AUBCAolSPquL"
      },
      "source": [
        "# Food Vision using all the data from Food101\n",
        "\n",
        "Aim:\n",
        ">* Will incorporate Mixed Precision\n",
        ">>* Mixed precision training uses a combination of single precision (float32) and half-preicison (float16) data types to speed up model training (up 3x on modern GPUs).\n",
        ">* Dataset from Tensorflow Dataset\n",
        ">* Train data\t75,750 images\t\n",
        ">* Test data\t25,250 images\n",
        ">* Beat Original DeepFood paper, a 2016 paper which used a Convolutional Neural Network trained for 2-3 days to achieve 77.4% top-1 accuracy."
      ]
    },
    {
      "cell_type": "code",
      "execution_count": null,
      "metadata": {
        "colab": {
          "base_uri": "https://localhost:8080/"
        },
        "id": "CkJIrVX9O7O1",
        "outputId": "fd228bd8-0e02-4540-82bc-4c062dcff1aa"
      },
      "outputs": [
        {
          "name": "stdout",
          "output_type": "stream",
          "text": [
            "NVIDIA-SMI has failed because it couldn't communicate with the NVIDIA driver. Make sure that the latest NVIDIA driver is installed and running.\n",
            "\n"
          ]
        }
      ],
      "source": [
        "!nvidia-smi -L"
      ]
    },
    {
      "cell_type": "markdown",
      "metadata": {
        "id": "1J3GfKy7PCSd"
      },
      "source": [
        "## Getting the Helper Functions"
      ]
    },
    {
      "cell_type": "code",
      "execution_count": null,
      "metadata": {
        "colab": {
          "base_uri": "https://localhost:8080/"
        },
        "id": "oNc_qT5LPCHb",
        "outputId": "863ac7a6-157a-4af1-b975-ae82cf02df61"
      },
      "outputs": [
        {
          "name": "stdout",
          "output_type": "stream",
          "text": [
            "--2022-06-22 17:44:33--  https://raw.githubusercontent.com/Krishnak561/tensorflow-deep-learning/main/extras/helper_functions.py\n",
            "Resolving raw.githubusercontent.com (raw.githubusercontent.com)... 185.199.108.133, 185.199.109.133, 185.199.110.133, ...\n",
            "Connecting to raw.githubusercontent.com (raw.githubusercontent.com)|185.199.108.133|:443... connected.\n",
            "HTTP request sent, awaiting response... 200 OK\n",
            "Length: 10246 (10K) [text/plain]\n",
            "Saving to: ‘helper_functions.py’\n",
            "\n",
            "helper_functions.py 100%[===================>]  10.01K  --.-KB/s    in 0s      \n",
            "\n",
            "2022-06-22 17:44:33 (83.3 MB/s) - ‘helper_functions.py’ saved [10246/10246]\n",
            "\n"
          ]
        }
      ],
      "source": [
        "!wget https://raw.githubusercontent.com/Krishnak561/tensorflow-deep-learning/main/extras/helper_functions.py\n",
        "\n",
        "# Importing helper functions that will be used in this notebook\n",
        "from helper_functions import create_tensorboard_callback, plot_loss_curves, unzip_data, walk_through_dir"
      ]
    },
    {
      "cell_type": "markdown",
      "metadata": {
        "id": "94AC1aUYj6mY"
      },
      "source": [
        "## Downloading the Dataset"
      ]
    },
    {
      "cell_type": "code",
      "execution_count": null,
      "metadata": {
        "colab": {
          "base_uri": "https://localhost:8080/"
        },
        "id": "hmjcO6EZj9i0",
        "outputId": "d0124e30-5ffa-4df8-ee58-15c3ee5d197a"
      },
      "outputs": [
        {
          "name": "stdout",
          "output_type": "stream",
          "text": [
            "True\n"
          ]
        }
      ],
      "source": [
        "import tensorflow_datasets as tfds\n",
        "import tensorflow as tf\n",
        "\n",
        "# List available datasets\n",
        "datasets_list = tfds.list_builders() # get all available datasets in TFDS\n",
        "print(\"food101\" in datasets_list) # is the dataset we're after available?"
      ]
    },
    {
      "cell_type": "code",
      "execution_count": null,
      "metadata": {
        "colab": {
          "background_save": true,
          "base_uri": "https://localhost:8080/",
          "referenced_widgets": [
            "2e879526ab3d4835b6fafc5a552d7d5f",
            "b3184a51e06648bc90e3d03f5a722128",
            "ad278890bd3e4e7eb0f9a1fd3a7d193d",
            "db3660fe77854188bf7931dbfbdb08dd",
            "b05b31f94a68424fac252bbe6c2d48af",
            "e05741a1c4464bc2a870172cf21ad704",
            "fc1be995e0cc40c9911b2c682a7451ea"
          ]
        },
        "id": "ro-GxI26lcBh",
        "outputId": "9f7c2b91-9eda-4e30-dcfb-60f15d6d6271"
      },
      "outputs": [
        {
          "name": "stdout",
          "output_type": "stream",
          "text": [
            "\u001b[1mDownloading and preparing dataset food101/2.0.0 (download: 4.65 GiB, generated: Unknown size, total: 4.65 GiB) to /root/tensorflow_datasets/food101/2.0.0...\u001b[0m\n"
          ]
        },
        {
          "data": {
            "application/vnd.jupyter.widget-view+json": {
              "model_id": "2e879526ab3d4835b6fafc5a552d7d5f",
              "version_major": 2,
              "version_minor": 0
            },
            "text/plain": [
              "Dl Completed...: 0 url [00:00, ? url/s]"
            ]
          },
          "metadata": {},
          "output_type": "display_data"
        },
        {
          "data": {
            "application/vnd.jupyter.widget-view+json": {
              "model_id": "b3184a51e06648bc90e3d03f5a722128",
              "version_major": 2,
              "version_minor": 0
            },
            "text/plain": [
              "Dl Size...: 0 MiB [00:00, ? MiB/s]"
            ]
          },
          "metadata": {},
          "output_type": "display_data"
        },
        {
          "data": {
            "application/vnd.jupyter.widget-view+json": {
              "model_id": "ad278890bd3e4e7eb0f9a1fd3a7d193d",
              "version_major": 2,
              "version_minor": 0
            },
            "text/plain": [
              "Extraction completed...: 0 file [00:00, ? file/s]"
            ]
          },
          "metadata": {},
          "output_type": "display_data"
        },
        {
          "name": "stdout",
          "output_type": "stream",
          "text": [
            "\n",
            "\n",
            "\n"
          ]
        },
        {
          "data": {
            "application/vnd.jupyter.widget-view+json": {
              "model_id": "db3660fe77854188bf7931dbfbdb08dd",
              "version_major": 2,
              "version_minor": 0
            },
            "text/plain": [
              "0 examples [00:00, ? examples/s]"
            ]
          },
          "metadata": {},
          "output_type": "display_data"
        },
        {
          "name": "stdout",
          "output_type": "stream",
          "text": [
            "Shuffling and writing examples to /root/tensorflow_datasets/food101/2.0.0.incompleteS0MFGO/food101-train.tfrecord\n"
          ]
        },
        {
          "data": {
            "application/vnd.jupyter.widget-view+json": {
              "model_id": "b05b31f94a68424fac252bbe6c2d48af",
              "version_major": 2,
              "version_minor": 0
            },
            "text/plain": [
              "  0%|          | 0/75750 [00:00<?, ? examples/s]"
            ]
          },
          "metadata": {},
          "output_type": "display_data"
        },
        {
          "data": {
            "application/vnd.jupyter.widget-view+json": {
              "model_id": "e05741a1c4464bc2a870172cf21ad704",
              "version_major": 2,
              "version_minor": 0
            },
            "text/plain": [
              "0 examples [00:00, ? examples/s]"
            ]
          },
          "metadata": {},
          "output_type": "display_data"
        },
        {
          "name": "stdout",
          "output_type": "stream",
          "text": [
            "Shuffling and writing examples to /root/tensorflow_datasets/food101/2.0.0.incompleteS0MFGO/food101-validation.tfrecord\n"
          ]
        },
        {
          "data": {
            "application/vnd.jupyter.widget-view+json": {
              "model_id": "fc1be995e0cc40c9911b2c682a7451ea",
              "version_major": 2,
              "version_minor": 0
            },
            "text/plain": [
              "  0%|          | 0/25250 [00:00<?, ? examples/s]"
            ]
          },
          "metadata": {},
          "output_type": "display_data"
        },
        {
          "name": "stdout",
          "output_type": "stream",
          "text": [
            "\u001b[1mDataset food101 downloaded and prepared to /root/tensorflow_datasets/food101/2.0.0. Subsequent calls will reuse this data.\u001b[0m\n"
          ]
        }
      ],
      "source": [
        "# Load in the data (takes about 5-6 minutes in Google Colab)\n",
        "(train_data, test_data), ds_info = tfds.load(name=\"food101\", # target dataset to get from TFDS\n",
        "                                             split=[\"train\", \"validation\"], # what splits of data should we get? note: not all datasets have train, valid, test\n",
        "                                             shuffle_files=True, # shuffle files on download?\n",
        "                                             as_supervised=True, # download data in tuple format (sample, label), e.g. (image, label)\n",
        "                                             with_info=True) # include dataset metadata? if so, tfds.load() returns tuple (data, ds_info)"
      ]
    },
    {
      "cell_type": "code",
      "execution_count": null,
      "metadata": {
        "colab": {
          "background_save": true
        },
        "id": "Sg-MPn-CAisD",
        "outputId": "93a234d4-b0ad-4449-b312-321997592b24"
      },
      "outputs": [
        {
          "data": {
            "text/plain": [
              "FeaturesDict({\n",
              "    'image': Image(shape=(None, None, 3), dtype=tf.uint8),\n",
              "    'label': ClassLabel(shape=(), dtype=tf.int64, num_classes=101),\n",
              "})"
            ]
          },
          "execution_count": null,
          "metadata": {},
          "output_type": "execute_result"
        }
      ],
      "source": [
        "ds_info.features"
      ]
    },
    {
      "cell_type": "code",
      "execution_count": null,
      "metadata": {
        "colab": {
          "background_save": true
        },
        "id": "vF6w5EUjCeRo",
        "outputId": "d248c492-e5a6-477b-fb36-a48c3aaf1969"
      },
      "outputs": [
        {
          "data": {
            "text/plain": [
              "['apple_pie',\n",
              " 'baby_back_ribs',\n",
              " 'baklava',\n",
              " 'beef_carpaccio',\n",
              " 'beef_tartare',\n",
              " 'beet_salad',\n",
              " 'beignets',\n",
              " 'bibimbap',\n",
              " 'bread_pudding',\n",
              " 'breakfast_burrito']"
            ]
          },
          "execution_count": null,
          "metadata": {},
          "output_type": "execute_result"
        }
      ],
      "source": [
        "class_names = ds_info.features[\"label\"].names\n",
        "class_names[:10]"
      ]
    },
    {
      "cell_type": "code",
      "execution_count": null,
      "metadata": {
        "colab": {
          "background_save": true
        },
        "id": "3d8xTNQaClBB",
        "outputId": "97856443-101c-429a-8dda-efd24aec91b6"
      },
      "outputs": [
        {
          "data": {
            "text/plain": [
              "(None, None, 3)"
            ]
          },
          "execution_count": null,
          "metadata": {},
          "output_type": "execute_result"
        }
      ],
      "source": [
        "ds_info.features[\"image\"].shape"
      ]
    },
    {
      "cell_type": "code",
      "execution_count": null,
      "metadata": {
        "colab": {
          "background_save": true
        },
        "id": "mQOVXMKTx7Ur",
        "outputId": "f546aeca-3d90-40f2-a57c-0d52f41b9702"
      },
      "outputs": [
        {
          "name": "stdout",
          "output_type": "stream",
          "text": [
            "\n",
            "  Image Shape: (512, 512, 3)\n",
            "  Image dtype: <dtype: 'uint8'>\n",
            "  Label: 23\n",
            "  Class Name: churros\n",
            "        \n"
          ]
        }
      ],
      "source": [
        "training_data_sample = train_data.take(1)\n",
        "\n",
        "for image, label in training_data_sample:\n",
        "  print(f\"\"\"\n",
        "  Image Shape: {image.shape}\n",
        "  Image dtype: {image.dtype}\n",
        "  Label: {label}\n",
        "  Class Name: {class_names[label]}\n",
        "        \"\"\")\n"
      ]
    },
    {
      "cell_type": "code",
      "execution_count": null,
      "metadata": {
        "colab": {
          "background_save": true
        },
        "id": "4jYpGOBwB3p-",
        "outputId": "51c59660-a187-4a54-f9d1-602b2086b5c7"
      },
      "outputs": [
        {
          "data": {
            "text/plain": [
              "<tf.Tensor: shape=(512, 512, 3), dtype=uint8, numpy=\n",
              "array([[[ 93,  34,  40],\n",
              "        [ 93,  34,  40],\n",
              "        [ 94,  35,  41],\n",
              "        ...,\n",
              "        [ 52,  15,  23],\n",
              "        [ 52,  15,  23],\n",
              "        [ 52,  15,  23]],\n",
              "\n",
              "       [[ 93,  34,  40],\n",
              "        [ 93,  34,  40],\n",
              "        [ 94,  35,  41],\n",
              "        ...,\n",
              "        [ 52,  15,  23],\n",
              "        [ 52,  15,  23],\n",
              "        [ 52,  15,  23]],\n",
              "\n",
              "       [[ 93,  34,  40],\n",
              "        [ 93,  34,  40],\n",
              "        [ 94,  35,  41],\n",
              "        ...,\n",
              "        [ 54,  14,  23],\n",
              "        [ 52,  15,  23],\n",
              "        [ 52,  15,  23]],\n",
              "\n",
              "       ...,\n",
              "\n",
              "       [[108,  31,  49],\n",
              "        [106,  29,  47],\n",
              "        [105,  28,  46],\n",
              "        ...,\n",
              "        [121,  38,  56],\n",
              "        [122,  39,  59],\n",
              "        [123,  40,  60]],\n",
              "\n",
              "       [[107,  30,  48],\n",
              "        [107,  30,  48],\n",
              "        [107,  30,  48],\n",
              "        ...,\n",
              "        [121,  38,  58],\n",
              "        [123,  40,  60],\n",
              "        [123,  40,  60]],\n",
              "\n",
              "       [[106,  29,  47],\n",
              "        [108,  31,  49],\n",
              "        [109,  32,  50],\n",
              "        ...,\n",
              "        [123,  40,  60],\n",
              "        [124,  41,  61],\n",
              "        [124,  41,  61]]], dtype=uint8)>"
            ]
          },
          "execution_count": null,
          "metadata": {},
          "output_type": "execute_result"
        }
      ],
      "source": [
        "image"
      ]
    },
    {
      "cell_type": "code",
      "execution_count": null,
      "metadata": {
        "colab": {
          "background_save": true
        },
        "id": "36-fBWNXB6j7",
        "outputId": "d65020ed-5c58-4574-bc6c-f10e3ceab69f"
      },
      "outputs": [
        {
          "data": {
            "text/plain": [
              "(<tf.Tensor: shape=(), dtype=uint8, numpy=9>,\n",
              " <tf.Tensor: shape=(), dtype=uint8, numpy=255>)"
            ]
          },
          "execution_count": null,
          "metadata": {},
          "output_type": "execute_result"
        }
      ],
      "source": [
        "tf.reduce_min(image), tf.reduce_max(image)"
      ]
    },
    {
      "cell_type": "markdown",
      "metadata": {
        "id": "JSKs4oeRDCJr"
      },
      "source": [
        "## Plot the Image"
      ]
    },
    {
      "cell_type": "code",
      "execution_count": null,
      "metadata": {
        "colab": {
          "background_save": true
        },
        "id": "JgL8P4GXC36A",
        "outputId": "ae0d118f-93d8-4513-d84a-0d56b3e6b638"
      },
      "outputs": [
        {
          "data": {
            "text/plain": [
              "Text(0.5, 1.0, 'churros')"
            ]
          },
          "execution_count": null,
          "metadata": {},
          "output_type": "execute_result"
        },
        {
          "data": {
            "image/png": "[encoded data removed]",
            "text/plain": [
              "<Figure size 432x288 with 1 Axes>"
            ]
          },
          "metadata": {},
          "output_type": "display_data"
        }
      ],
      "source": [
        "import matplotlib.pyplot as plt\n",
        "\n",
        "plt.imshow(image)\n",
        "plt.title(class_names[label])"
      ]
    },
    {
      "cell_type": "markdown",
      "metadata": {
        "id": "nfkPV7-kB00f"
      },
      "source": [
        "## Preprocessing Data\n",
        "\n",
        "More specifically, our data is currently:\n",
        "\n",
        ">* In uint8 data type\n",
        ">* Comprised of all differnet sized tensors (different sized images)\n",
        ">* Not scaled (the pixel values are between 0 & 255)\n",
        "\n",
        "Whereas, models like data to be:\n",
        "\n",
        ">* In float32 data type\n",
        ">* Have all of the same size tensors (batches require all tensors have the same shape, e.g. (224, 224, 3))\n",
        ">* Scaled (values between 0 & 1), also called normalized"
      ]
    },
    {
      "cell_type": "code",
      "execution_count": null,
      "metadata": {
        "colab": {
          "background_save": true
        },
        "id": "fbamSg2_Bm1X"
      },
      "outputs": [],
      "source": [
        "def preprocess(image, label, img_size = 224):\n",
        "  image = tf.cast(image, dtype = tf.float32)\n",
        "  image = tf.image.resize(image, [img_size, img_size])\n",
        "\n",
        "  return image, label\n"
      ]
    },
    {
      "cell_type": "code",
      "execution_count": null,
      "metadata": {
        "colab": {
          "background_save": true
        },
        "id": "7NIV4Ke5DScw",
        "outputId": "76255fe9-1a9b-41af-a074-a07360302c8d"
      },
      "outputs": [
        {
          "name": "stdout",
          "output_type": "stream",
          "text": [
            "(<tf.Tensor: shape=(224, 224, 3), dtype=float32, numpy=\n",
            "array([[[ 93.      ,  34.      ,  40.      ],\n",
            "        [ 94.      ,  35.      ,  41.      ],\n",
            "        [ 95.      ,  36.      ,  42.      ],\n",
            "        ...,\n",
            "        [ 55.      ,  15.      ,  24.      ],\n",
            "        [ 52.      ,  15.      ,  23.      ],\n",
            "        [ 52.      ,  15.      ,  23.      ]],\n",
            "\n",
            "       [[ 93.92857 ,  34.928574,  40.928574],\n",
            "        [ 93.07143 ,  34.071426,  40.071426],\n",
            "        [ 94.      ,  35.      ,  41.      ],\n",
            "        ...,\n",
            "        [ 55.      ,  15.      ,  24.      ],\n",
            "        [ 54.      ,  14.      ,  23.      ],\n",
            "        [ 52.      ,  15.      ,  23.      ]],\n",
            "\n",
            "       [[ 93.928566,  35.357143,  41.57143 ],\n",
            "        [ 91.64285 ,  33.071426,  39.285713],\n",
            "        [ 91.78571 ,  33.214287,  39.428574],\n",
            "        ...,\n",
            "        [ 54.      ,  14.      ,  23.      ],\n",
            "        [ 55.      ,  15.      ,  24.      ],\n",
            "        [ 55.      ,  15.      ,  24.      ]],\n",
            "\n",
            "       ...,\n",
            "\n",
            "       [[108.01023 ,  31.010233,  49.01023 ],\n",
            "        [108.627594,  31.627594,  49.627594],\n",
            "        [104.85708 ,  27.857079,  45.85708 ],\n",
            "        ...,\n",
            "        [123.02541 ,  39.64279 ,  57.71933 ],\n",
            "        [118.52543 ,  35.52543 ,  53.52543 ],\n",
            "        [117.06638 ,  34.066383,  52.066383]],\n",
            "\n",
            "       [[107.31121 ,  30.311216,  48.31122 ],\n",
            "        [107.85203 ,  30.852028,  48.852028],\n",
            "        [108.71431 ,  31.714312,  49.71431 ],\n",
            "        ...,\n",
            "        [124.07132 ,  40.64279 ,  58.857056],\n",
            "        [120.07144 ,  37.07144 ,  55.07144 ],\n",
            "        [122.35718 ,  39.357178,  59.357178]],\n",
            "\n",
            "       [[107.10205 ,  30.10205 ,  48.10205 ],\n",
            "        [107.38269 ,  30.38269 ,  48.38269 ],\n",
            "        [109.65301 ,  32.653008,  50.653008],\n",
            "        ...,\n",
            "        [122.20905 ,  38.780525,  56.99479 ],\n",
            "        [120.122475,  37.122475,  57.122475],\n",
            "        [123.35718 ,  40.357178,  60.357178]]], dtype=float32)>, <tf.Tensor: shape=(), dtype=int64, numpy=23>)\n"
          ]
        }
      ],
      "source": [
        "print(preprocess(image, label))"
      ]
    },
    {
      "cell_type": "markdown",
      "metadata": {
        "id": "xeMs8MSpD4Nm"
      },
      "source": [
        "## Batching and Preparing Dataset\n",
        "\n",
        "Specifically, we're going to be using:\n",
        "\n",
        ">* **map()** - maps a predefined function to a target dataset (e.g. preprocess_img() to our image tensors)\n",
        ">* **shuffle()** - randomly shuffles the elements of a target dataset up buffer_size (ideally, the buffer_size is equal to the size of the dataset, however, this may have implications on memory)\n",
        ">* **batch()** - turns elements of a target dataset into batches (size defined by parameter batch_size)\n",
        ">* **prefetch()** - prepares subsequent batches of data whilst other batches of data are being computed on (improves data loading speed but costs memory)\n",
        ">* **Extra: cache()** - caches (saves them for later) elements in a target dataset, saving loading time (will only work if your dataset is small enough to fit in memory, standard Colab instances only have 12GB of memory)"
      ]
    },
    {
      "cell_type": "code",
      "execution_count": null,
      "metadata": {
        "colab": {
          "background_save": true
        },
        "id": "NU_cZhAMD12x"
      },
      "outputs": [],
      "source": [
        "# Map preprocessing function to training data (and paralellize)\n",
        "train_data = train_data.map(map_func=preprocess, num_parallel_calls=tf.data.AUTOTUNE)\n",
        "# Shuffle train_data and turn it into batches and prefetch it (load it faster)\n",
        "train_data = train_data.shuffle(buffer_size=1000).batch(batch_size=32).prefetch(buffer_size=tf.data.AUTOTUNE)\n",
        "\n",
        "# Map prepreprocessing function to test data\n",
        "test_data = test_data.map(preprocess, num_parallel_calls=tf.data.AUTOTUNE)\n",
        "# Turn test data into batches (don't need to shuffle)\n",
        "test_data = test_data.batch(32).prefetch(tf.data.AUTOTUNE)"
      ]
    },
    {
      "cell_type": "code",
      "execution_count": null,
      "metadata": {
        "colab": {
          "background_save": true
        },
        "id": "G40DbqwbvkNZ",
        "outputId": "27253fc6-cc6d-484a-961c-ae1f07e03e98"
      },
      "outputs": [
        {
          "data": {
            "text/plain": [
              "(<PrefetchDataset element_spec=(TensorSpec(shape=(None, 224, 224, 3), dtype=tf.float32, name=None), TensorSpec(shape=(None,), dtype=tf.int64, name=None))>,\n",
              " <PrefetchDataset element_spec=(TensorSpec(shape=(None, 224, 224, 3), dtype=tf.float32, name=None), TensorSpec(shape=(None,), dtype=tf.int64, name=None))>)"
            ]
          },
          "execution_count": null,
          "metadata": {},
          "output_type": "execute_result"
        }
      ],
      "source": [
        "train_data, test_data"
      ]
    },
    {
      "cell_type": "markdown",
      "metadata": {
        "id": "yYtE4jpvGFVI"
      },
      "source": [
        "## Creating CallBacks"
      ]
    },
    {
      "cell_type": "code",
      "execution_count": null,
      "metadata": {
        "colab": {
          "background_save": true
        },
        "id": "SJGKdcyWF90i"
      },
      "outputs": [],
      "source": [
        "modelCheckPointPath = \"foodVision/checkpoint.ckpt\"\n",
        "\n",
        "modelCheckPoint = tf.keras.callbacks.ModelCheckpoint(filepath=modelCheckPointPath, \n",
        "                                                     verbose = 1,\n",
        "                                                     save_best_only = False,\n",
        "                                                     save_weights_only = True,\n",
        "                                                     save_freq = 'epoch')"
      ]
    },
    {
      "cell_type": "markdown",
      "metadata": {
        "id": "AXYEjZSspdfN"
      },
      "source": [
        "## Setting Mixed Precision "
      ]
    },
    {
      "cell_type": "code",
      "execution_count": null,
      "metadata": {
        "colab": {
          "background_save": true
        },
        "id": "quS61e9qGmwo",
        "outputId": "771a0bab-78c3-4f35-f501-a459aa78e954"
      },
      "outputs": [
        {
          "name": "stdout",
          "output_type": "stream",
          "text": [
            "WARNING:tensorflow:Mixed precision compatibility check (mixed_float16): WARNING\n",
            "The dtype policy mixed_float16 may run slowly because this machine does not have a GPU. Only Nvidia GPUs with compute capability of at least 7.0 run quickly with mixed_float16.\n",
            "If you will use compatible GPU(s) not attached to this host, e.g. by running a multi-worker model, you can ignore this warning. This message will only be logged once\n"
          ]
        },
        {
          "name": "stderr",
          "output_type": "stream",
          "text": [
            "WARNING:tensorflow:Mixed precision compatibility check (mixed_float16): WARNING\n",
            "The dtype policy mixed_float16 may run slowly because this machine does not have a GPU. Only Nvidia GPUs with compute capability of at least 7.0 run quickly with mixed_float16.\n",
            "If you will use compatible GPU(s) not attached to this host, e.g. by running a multi-worker model, you can ignore this warning. This message will only be logged once\n"
          ]
        }
      ],
      "source": [
        "from tensorflow.keras import mixed_precision\n",
        "policy = mixed_precision.Policy('mixed_float16')\n",
        "mixed_precision.set_global_policy(policy)"
      ]
    },
    {
      "cell_type": "code",
      "execution_count": null,
      "metadata": {
        "colab": {
          "background_save": true
        },
        "id": "jPDkeYfKqCPV",
        "outputId": "3b2cb8f8-eb4f-4e9a-c79e-e21cdee326ea"
      },
      "outputs": [
        {
          "name": "stdout",
          "output_type": "stream",
          "text": [
            "Compute dtype: float16\n",
            "Variable dtype: float32\n"
          ]
        }
      ],
      "source": [
        "print('Compute dtype: %s' % policy.compute_dtype)\n",
        "print('Variable dtype: %s' % policy.variable_dtype)"
      ]
    },
    {
      "cell_type": "markdown",
      "metadata": {
        "id": "vIrs-8DoqM0J"
      },
      "source": [
        "## Feature Extraction - Building the Model"
      ]
    },
    {
      "cell_type": "code",
      "execution_count": null,
      "metadata": {
        "colab": {
          "background_save": true
        },
        "id": "NIZ0pnDSt4FL",
        "outputId": "9cd95033-93fd-4029-d93f-7d2c8fa444b6"
      },
      "outputs": [
        {
          "data": {
            "text/plain": [
              "101"
            ]
          },
          "execution_count": null,
          "metadata": {},
          "output_type": "execute_result"
        }
      ],
      "source": [
        "len(class_names)"
      ]
    },
    {
      "cell_type": "code",
      "execution_count": null,
      "metadata": {
        "colab": {
          "background_save": true
        },
        "id": "3rZMo4epqTNS"
      },
      "outputs": [],
      "source": [
        "initial_epochs = 3\n",
        "\n",
        "base_model = tf.keras.applications.EfficientNetB0(include_top = False)\n",
        "base_model.trainable = False;\n",
        "\n",
        "inputs = tf.keras.Input(shape = (224, 224, 3))\n",
        "\n",
        "x = base_model(inputs, training = False)\n",
        "\n",
        "x = tf.keras.layers.GlobalAveragePooling2D()(x)\n",
        "\n",
        "outputs = tf.keras.layers.Dense(len(class_names), activation= \"softmax\", dtype = tf.float32)(x)\n",
        "\n",
        "model = tf.keras.Model(inputs, outputs)\n",
        "\n",
        "\n",
        "model.compile(loss = \"sparse_categorical_crossentropy\",\n",
        "              metrics = [\"accuracy\"],\n",
        "              optimizer = \"Adam\")\n",
        "\n",
        "history_before = model.fit(train_data, epochs = 3, steps_per_epoch = len(train_data),\n",
        "                           validation_data = test_data, validation_steps = int(.15 * len(test_data)),\n",
        "                           callbacks = [create_tensorboard_callback(\"tensorflow\", \"FoodVision101\"), modelCheckPoint])"
      ]
    },
    {
      "cell_type": "code",
      "execution_count": null,
      "metadata": {
        "colab": {
          "background_save": true
        },
        "id": "MGb_9Auxu3vr"
      },
      "outputs": [],
      "source": [
        "results_1 = model.evaluate(test_data)\n",
        "results_1"
      ]
    },
    {
      "cell_type": "code",
      "execution_count": null,
      "metadata": {
        "colab": {
          "background_save": true
        },
        "id": "uPgqqCAG0YdQ"
      },
      "outputs": [],
      "source": [
        ""
      ]
    }
  ],
  "metadata": {
    "colab": {
      "collapsed_sections": [],
      "name": "01_FoodVision.ipynb",
      "toc_visible": true,
      "provenance": []
    },
    "gpuClass": "standard",
    "kernelspec": {
      "display_name": "Python 3",
      "name": "python3"
    },
    "language_info": {
      "name": "python"
    },
    "accelerator": "GPU"
  },
  "nbformat": 4,
  "nbformat_minor": 0
}